{
 "cells": [
  {
   "cell_type": "code",
   "execution_count": 1,
   "metadata": {},
   "outputs": [],
   "source": [
    "import os\n",
    "\n",
    "os.environ['MLFLOW_TRACKING_URI']= 'https://dagshub.com/ganu0811/datascienceproject.mlflow'\n",
    "os.environ['MLFLOW_TRACKING_USERNAME']= 'ganu0811'\n",
    "os.environ['MLFLOW_TRACKING_PASSWORD']= '408b0d3ca30244534b813dfd774bda4b64cc1013'\n"
   ]
  },
  {
   "cell_type": "code",
   "execution_count": 2,
   "metadata": {},
   "outputs": [
    {
     "data": {
      "text/plain": [
       "'d:\\\\MLFlow\\\\datascienceproject\\\\research'"
      ]
     },
     "execution_count": 2,
     "metadata": {},
     "output_type": "execute_result"
    }
   ],
   "source": [
    "%pwd"
   ]
  },
  {
   "cell_type": "code",
   "execution_count": 3,
   "metadata": {},
   "outputs": [],
   "source": [
    "os.chdir('../')"
   ]
  },
  {
   "cell_type": "code",
   "execution_count": 4,
   "metadata": {},
   "outputs": [
    {
     "data": {
      "text/plain": [
       "'d:\\\\MLFlow\\\\datascienceproject'"
      ]
     },
     "execution_count": 4,
     "metadata": {},
     "output_type": "execute_result"
    }
   ],
   "source": [
    "%pwd"
   ]
  },
  {
   "cell_type": "code",
   "execution_count": 5,
   "metadata": {},
   "outputs": [],
   "source": [
    "from dataclasses import dataclass\n",
    "from pathlib import Path\n",
    "\n",
    "@dataclass\n",
    "class ModelEvaluationConfig:\n",
    "    root_dir: Path\n",
    "    test_data_path: Path\n",
    "    model_path: Path\n",
    "    all_params: dict\n",
    "    metric_file_name: Path\n",
    "    target_column: str\n",
    "    mlflow_uri: str   "
   ]
  },
  {
   "cell_type": "code",
   "execution_count": 6,
   "metadata": {},
   "outputs": [],
   "source": [
    "from src.datascience.constants import *\n",
    "from src.datascience.utils.common import read_yaml, create_directories, save_json"
   ]
  },
  {
   "cell_type": "code",
   "execution_count": 7,
   "metadata": {},
   "outputs": [],
   "source": [
    "class ConfigurationManager:\n",
    "    \n",
    "    def __init__(self,\n",
    "                config_filepath = CONFIG_FILE_PATH,\n",
    "                params_filepath = PARAMS_FILE_PATH,\n",
    "                schema_filepath = SCHEMA_FILE_PATH):\n",
    "                \n",
    "                self.config = read_yaml(config_filepath)\n",
    "                self.params = read_yaml(params_filepath)\n",
    "                self.schema = read_yaml(schema_filepath)\n",
    "                \n",
    "                create_directories([self.config.artifacts_root])\n",
    "                \n",
    "    \n",
    "    def get_model_evaluation_config(self) -> ModelEvaluationConfig:\n",
    "        config = self.config.model_evaluation\n",
    "        \n",
    "        params= self.params.ElasticNet\n",
    "        schema = self.schema.TARGET_COLUMN\n",
    "        \n",
    "        create_directories([config.root_dir])\n",
    "        \n",
    "        model_evaluation_config = ModelEvaluationConfig(\n",
    "            root_dir = config.root_dir,\n",
    "            test_data_path= config.test_data_path,\n",
    "            model_path = config. model_path,\n",
    "            all_params = params,\n",
    "            metric_file_name= config.metric_file_name,\n",
    "            target_column = schema.name,\n",
    "            mlflow_uri = 'https://dagshub.com/ganu0811/datascienceproject.mlflow'\n",
    "        )\n",
    "        \n",
    "    \n",
    "        return model_evaluation_config\n",
    "            "
   ]
  },
  {
   "cell_type": "code",
   "execution_count": 8,
   "metadata": {},
   "outputs": [],
   "source": [
    "import os\n",
    "import pandas as pd\n",
    "from sklearn.metrics import mean_squared_error, mean_absolute_error, r2_score\n",
    "import mlflow\n",
    "from urllib.parse import urlparse\n",
    "import mlflow.sklearn\n",
    "import numpy as np\n",
    "import joblib"
   ]
  },
  {
   "cell_type": "code",
   "execution_count": 15,
   "metadata": {},
   "outputs": [],
   "source": [
    "class ModelEvaluation:\n",
    "    \n",
    "    def __init__(self, config=ModelEvaluationConfig):\n",
    "        \n",
    "        self.config = config\n",
    "    \n",
    "    def eval_metrics(self, actual, pred):\n",
    "        \n",
    "        rmse = np.sqrt(mean_absolute_error(actual, pred))\n",
    "        mse = mean_squared_error(actual, pred)\n",
    "        r2 = r2_score(actual, pred)\n",
    "        \n",
    "        return rmse, mse, r2\n",
    "    \n",
    "    def log_into_mlflow(self):\n",
    "        test_data = pd.read_csv(self.config.test_data_path)\n",
    "        model = joblib.load(self.config.model_path)\n",
    "        \n",
    "        test_x = test_data.drop([self.config.target_column], axis=1)\n",
    "        test_y = test_data[[self.config.target_column]]\n",
    "        \n",
    "        \n",
    "        mlflow.set_registry_uri(self.config.mlflow_uri)\n",
    "        tracking_url_type_store = urlparse(mlflow.get_tracking_uri()).scheme\n",
    "        \n",
    "        \n",
    "        with mlflow.start_run():\n",
    "            \n",
    "            predicted_qualities = model.predict(test_x)\n",
    "            \n",
    "            (rmse, mse, r2) = self.eval_metrics(test_y, predicted_qualities)\n",
    "            \n",
    "            # Saving the log/metric parameters\n",
    "            metrics_file = Path(self.config.metric_file_name)\n",
    "            metrics_file.parent.mkdir(parents=True, exist_ok=True)\n",
    "            metrics_file.touch(exist_ok=True)\n",
    "            scores = {'rmse': rmse, 'mse': mse, 'r2': r2}\n",
    "            save_json(path = Path(self.config.metric_file_name), data=scores)\n",
    "            \n",
    "            mlflow.log_params(self.config.all_params)\n",
    "            \n",
    "            mlflow.log_metric('rmse',rmse)\n",
    "            mlflow.log_metric('mse',mse)\n",
    "            mlflow.log_metric('r2',r2)\n",
    "            \n",
    "            # Model registry does not work with file store\n",
    "            \n",
    "            if tracking_url_type_store != 'file':\n",
    "                \n",
    "                # Register the mode\n",
    "                # There are other ways to use the model registry, which depends on the use case,\n",
    "                \n",
    "                mlflow.sklearn.log_model(model, \"model\", registered_model_name= \"ElasticNetModel\")\n",
    "            \n",
    "            else:\n",
    "                mlflow.sklearn.log_model(model, 'model')\n",
    "                 \n",
    "            \n",
    "            \n",
    "        \n",
    "        "
   ]
  },
  {
   "cell_type": "code",
   "execution_count": 16,
   "metadata": {},
   "outputs": [
    {
     "name": "stdout",
     "output_type": "stream",
     "text": [
      "[2024-12-30 16:49:34,879: INFO: common: yaml file: config\\config.yaml loaded successfully]\n",
      "[2024-12-30 16:49:34,883: INFO: common: yaml file: params.yaml loaded successfully]\n",
      "[2024-12-30 16:49:34,889: INFO: common: yaml file: schema.yaml loaded successfully]\n",
      "[2024-12-30 16:49:34,891: INFO: common: directory created at artifacts]\n",
      "[2024-12-30 16:49:34,893: INFO: common: directory created at artifacrs/model_evaluation]\n",
      "[2024-12-30 16:49:35,134: INFO: common: json file saved at: artifacts\\model_evaluation\\metrics.json]\n"
     ]
    },
    {
     "name": "stderr",
     "output_type": "stream",
     "text": [
      "2024/12/30 16:49:58 WARNING mlflow.models.model: Model logged without a signature and input example. Please set `input_example` parameter when logging the model to auto infer the model signature.\n",
      "Successfully registered model 'ElasticNetModel'.\n",
      "2024/12/30 16:50:01 INFO mlflow.store.model_registry.abstract_store: Waiting up to 300 seconds for model version to finish creation. Model name: ElasticNetModel, version 1\n",
      "Created version '1' of model 'ElasticNetModel'.\n"
     ]
    },
    {
     "name": "stdout",
     "output_type": "stream",
     "text": [
      "🏃 View run useful-fish-469 at: https://dagshub.com/ganu0811/datascienceproject.mlflow/#/experiments/0/runs/829657cc3d174914a4e7d62aa20e71df\n",
      "🧪 View experiment at: https://dagshub.com/ganu0811/datascienceproject.mlflow/#/experiments/0\n"
     ]
    }
   ],
   "source": [
    "try:\n",
    "    config = ConfigurationManager()\n",
    "    model_evaluation_config = config.get_model_evaluation_config()\n",
    "    \n",
    "    model_evaluation = ModelEvaluation(model_evaluation_config)\n",
    "    model_evaluation.log_into_mlflow()\n",
    "\n",
    "except Exception as e:\n",
    "    raise e"
   ]
  },
  {
   "cell_type": "code",
   "execution_count": null,
   "metadata": {},
   "outputs": [],
   "source": []
  },
  {
   "cell_type": "code",
   "execution_count": null,
   "metadata": {},
   "outputs": [],
   "source": []
  },
  {
   "cell_type": "code",
   "execution_count": null,
   "metadata": {},
   "outputs": [],
   "source": []
  }
 ],
 "metadata": {
  "kernelspec": {
   "display_name": "venv",
   "language": "python",
   "name": "python3"
  },
  "language_info": {
   "codemirror_mode": {
    "name": "ipython",
    "version": 3
   },
   "file_extension": ".py",
   "mimetype": "text/x-python",
   "name": "python",
   "nbconvert_exporter": "python",
   "pygments_lexer": "ipython3",
   "version": "3.10.0"
  }
 },
 "nbformat": 4,
 "nbformat_minor": 2
}
